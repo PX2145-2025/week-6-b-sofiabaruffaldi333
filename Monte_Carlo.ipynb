{
  "cells": [
    {
      "cell_type": "markdown",
      "metadata": {
        "id": "HB6JhamUpG2w"
      },
      "source": [
        "# Feedback from previous weeks and other and hints\n",
        "\n",
        "1. Be careful about your environment remembering variables. Make sure your code works in a new _clean_ environment. In Colab: `Runtime`->`restart Runtime`, in Anaconda's Jupyter: `Kernel`->`Restart`.\n",
        "2. Keep the file names when saving to GitHub. It's always possible to go back to a previous version, you are not losing anything.\n",
        "3. Run all the cells before saving to GitHub so the output is saved.\n",
        "4. Graphs without labels (or units when appropriate) are not worth any point.\n",
        "5. Do put in sufficient explanatory comments in your code.\n",
        "\n",
        "For this week you can use these imports at the start of your programs:"
      ]
    },
    {
      "cell_type": "code",
      "execution_count": 2,
      "metadata": {
        "id": "XKYB2FjfpG2y"
      },
      "outputs": [],
      "source": [
        "import numpy as np\n",
        "from numpy.random import random, normal, seed\n",
        "import matplotlib.pyplot as plt"
      ]
    },
    {
      "cell_type": "markdown",
      "metadata": {
        "id": "JutWDNfZpG20"
      },
      "source": [
        "**DO NOT** ```import *```. As your programs get more complex you will generally need to import a greater range of modules, and it's important to keep them separate.\n",
        "\n",
        "# Introduction\n",
        "Most physicists are unlikely to go gambling at Monte Carlo - even if they were paid enough. Our knowledge of statistics is sufficient warning. But that doesn’t stop physicists using the _Monte Carlo method_ extensively for maths and physics problems.\n",
        "\n",
        "As the name suggests, the Monte Carlo (MC) method is based on using randomness. At first sight, this seems counter intuitive - surely random numbers can only lead to more randomness? As a very simple illustration of how to use random numbers in a calculation, consider the following problem.\n",
        "\n",
        "Suppose you have a circular pond of of unit radius, placed exactly in a square area of grass.\n",
        "\n",
        "Imagine throwing $N$ stones randomly into the square area. What number $n$ would land in the pond? Clearly we know the theoretical answer in this case - it just depends on the ratio area of the pond and square, so $n = N\\pi/4$. But suppose you didn’t already know a value for $\\pi$. Then by finding the ratio $4n/N$ you will have an approximation to $\\pi$ which depends only on using random numbers (and, as we’ll see shortly, Pythagoras’ theorem).\n",
        "\n",
        "To implement this idea in python you can make use of the following code snippet:"
      ]
    },
    {
      "cell_type": "code",
      "execution_count": 3,
      "metadata": {
        "colab": {
          "base_uri": "https://localhost:8080/"
        },
        "id": "4iEk8QFlpG20",
        "outputId": "542184e9-9b22-4a09-c40f-6c5ec44c8acb"
      },
      "outputs": [
        {
          "output_type": "stream",
          "name": "stdout",
          "text": [
            "3.142\n"
          ]
        }
      ],
      "source": [
        "N=int(1e7)\n",
        "n=0\n",
        "for i in range (N):\n",
        "    x = 2*random()-1\n",
        "    y = 2*random()-1\n",
        "    r = np.sqrt(x*x+y*y)\n",
        "    if r <= 1.0:\n",
        "        n+=1 # adds 1 to n\n",
        "print(4*n/N)"
      ]
    },
    {
      "cell_type": "markdown",
      "metadata": {
        "id": "9Weth9BXpG21"
      },
      "source": [
        "The function random returns a random real number uniformly distributed in the range $[0,1)$, so $x$ and $y$ lie in the range $[-1,1)$ here. Investigate what value of $\\pi$ you get, and how it depends on the number $N$ that you pick. (You could repeat for different values of $N$ and plot a graph of $\\pi$ versus $N$.) Note that you don’t really need to take the square root in this case as we are dealing with a unit circle. (We could equally just take a circular quadrant instead of a whole circle if we use random number in the interval 0 to 1)\n",
        "\n",
        "The example above can take some time to run. But the code below, which does the same operations, is much faster:"
      ]
    },
    {
      "cell_type": "code",
      "execution_count": 4,
      "metadata": {
        "colab": {
          "base_uri": "https://localhost:8080/"
        },
        "id": "NRr63bzrpG22",
        "outputId": "62d02ce9-b2ef-49b0-fd6b-a87376423c93"
      },
      "outputs": [
        {
          "output_type": "stream",
          "name": "stdout",
          "text": [
            "3.1415796\n"
          ]
        }
      ],
      "source": [
        "x,y=2*np.random.rand(2,N)-1\n",
        "r=np.sqrt(x*x+y*y)\n",
        "n=np.sum(r <= 1.0)\n",
        "print(4*n/N)"
      ]
    },
    {
      "cell_type": "markdown",
      "metadata": {
        "id": "pO130fWmpG23"
      },
      "source": [
        "For the most part the increased speed is due to using _vector instructions_ built-in the `numpy` library. Those cannot be used by a `for` loop.\n",
        "\n",
        "## Measuring execution speed\n",
        "\n",
        "To measure the speed of a piece of code, if you are uring IPython/Jupyter (as Colab does), the IPython [magic](https://ipython.readthedocs.io/en/stable/interactive/magics.html) command `%%time` is very useful:"
      ]
    },
    {
      "cell_type": "code",
      "execution_count": 5,
      "metadata": {
        "colab": {
          "base_uri": "https://localhost:8080/"
        },
        "id": "oBfu_gY5pG23",
        "outputId": "948b9065-38a3-4c7d-f00b-478947a6b4f8"
      },
      "outputs": [
        {
          "output_type": "stream",
          "name": "stdout",
          "text": [
            "3.1419848\n",
            "CPU times: user 276 ms, sys: 133 ms, total: 409 ms\n",
            "Wall time: 409 ms\n"
          ]
        }
      ],
      "source": [
        "%%time\n",
        "\n",
        "x,y=2*np.random.rand(2,N)-1\n",
        "r=np.sqrt(x*x+y*y)\n",
        "n=np.sum(r <= 1.0)\n",
        "print(4*n/N)"
      ]
    },
    {
      "cell_type": "markdown",
      "metadata": {
        "id": "mJOop7DkpG24"
      },
      "source": [
        "Note that the similar-sounding `%%timeit` command will run the cell several time and calculate the average. In the absence of IPython, you can also use the `datetime` module:"
      ]
    },
    {
      "cell_type": "code",
      "execution_count": 6,
      "metadata": {
        "colab": {
          "base_uri": "https://localhost:8080/"
        },
        "id": "0qL7K1OipG24",
        "outputId": "8d0ca26b-5df1-4b99-c4a9-f760f4a8fe92"
      },
      "outputs": [
        {
          "output_type": "stream",
          "name": "stdout",
          "text": [
            "3.141276\n",
            "0:00:00.375534\n"
          ]
        }
      ],
      "source": [
        "from datetime import datetime\n",
        "startTime = datetime.now()\n",
        "x,y=2*np.random.rand(2,N)-1\n",
        "r=np.sqrt(x*x+y*y)\n",
        "n=np.sum(r <= 1.0)\n",
        "print(4*n/N)\n",
        "print(datetime.now() - startTime)"
      ]
    },
    {
      "cell_type": "markdown",
      "metadata": {
        "id": "EZCD6jYWpG24"
      },
      "source": [
        "## How random?\n",
        "It is interesting to plot out some generated random numbers to get a feel for how random they look. You already saw in week 3 of the PX1224 module how to plot out histograms. So we can do something like this..."
      ]
    },
    {
      "cell_type": "code",
      "execution_count": 7,
      "metadata": {
        "colab": {
          "base_uri": "https://localhost:8080/",
          "height": 430
        },
        "id": "vFS7ygOkpG25",
        "outputId": "2da3eaa3-9dc1-4a2b-8493-32c2e014ea36"
      },
      "outputs": [
        {
          "output_type": "display_data",
          "data": {
            "text/plain": [
              "<Figure size 640x480 with 1 Axes>"
            ],
            "image/png": "[encoded data removed]"
          },
          "metadata": {}
        }
      ],
      "source": [
        "# make the uniform random data ...\n",
        "N = int(1e5)\n",
        "x = np.zeros(N)\n",
        "for i in range(N): # very slow to loop like this\n",
        "    x[i] = random()\n",
        "# the histogram of the data\n",
        "plt.hist(x, bins='auto',density=True);"
      ]
    },
    {
      "cell_type": "markdown",
      "metadata": {
        "id": "-dyNz_gepG25"
      },
      "source": [
        "And a neater way to create an array of N random numbers is like this ..."
      ]
    },
    {
      "cell_type": "code",
      "execution_count": 8,
      "metadata": {
        "colab": {
          "base_uri": "https://localhost:8080/",
          "height": 430
        },
        "id": "7xmT_vbhpG25",
        "outputId": "3cf3497e-e193-4b07-c3a7-80d30efa17b0"
      },
      "outputs": [
        {
          "output_type": "display_data",
          "data": {
            "text/plain": [
              "<Figure size 640x480 with 1 Axes>"
            ],
            "image/png": "[encoded data removed]"
          },
          "metadata": {}
        }
      ],
      "source": [
        "# make the uniform random data ...\n",
        "N = int(1e5)\n",
        "x = random(N)\n",
        "plt.hist(x, bins='auto',density=True);"
      ]
    },
    {
      "cell_type": "markdown",
      "metadata": {
        "id": "nhMg5kO6pG25"
      },
      "source": [
        "You’ll see that, to the eye, the data look very uniformly distributed. How are random numbers generated in the computer? In fact, they are not entirely random, but are generated by an algorithm that produces a sequence of numbers that is _pseudo-random_. A great deal of research goes into generating pseudo-random numbers that pass known tests for randomness (rather more sophisticated than just looking at histograms). Take a look at http://www.random.org/ if you want truly random numbers.\n",
        "One advantage of pseudo-random number generation is that you can always generate the same sequence of numbers again for testing purposes! This is done by using a starting seed. To do this the syntax is:\n",
        "```python\n",
        "seed(1234)\n",
        "```\n",
        "where you can use any convenient integer starting seed.\n",
        "\n",
        "## Other probability distributions\n",
        "\n",
        "The [numpy and scipy documentation](https://numpy.org/doc/stable/reference/random/generator.html#distributions) website gives a good description of other random number distributions, not just the uniform one we’ve looked at so far. For example `y = normal(loc=0.0, scale=1.0, size=N)` will return an array of $N$ numbers with a Gaussian or normal probability distribution, with mean $\\mu = 0$ and standard deviation $\\sigma = 1$.\n",
        "\n",
        "# Applications\n",
        "\n",
        "## Integration in 1-D\n",
        "\n",
        "One application of the MC method is to the evaluation of integrals. Suppose we select $N$ random numbers $x_0,x_1,x_2,...,x_{N-1}$ in the interval $[0,1)$, then\n",
        "$$\n",
        "\\int_0^1 f(x)\\,dx\\approx\\frac{1}{N}\\sum_{i=0}^{N-1}f(x_i)\n",
        "$$\n",
        "This is not the best method in 1-D, since the error in the approximation is of order $1/\\sqrt{N}$, and many more points are required for a good estimate of the integral than, for example, the Romberg method. But it turns out to be increasingly beneficial in higher dimensions.\n",
        "\n",
        "Let’s look at a trivial example. We want to integrate $f(x) = x^2$ between 0 and 1. The relevant code snippet is something like this:"
      ]
    },
    {
      "cell_type": "code",
      "execution_count": 9,
      "metadata": {
        "colab": {
          "base_uri": "https://localhost:8080/"
        },
        "id": "qOvr7CGxpG26",
        "outputId": "2c55d5e9-4772-4f52-c741-27215106d530"
      },
      "outputs": [
        {
          "output_type": "stream",
          "name": "stdout",
          "text": [
            "Approximate result for 1000 points: 0.3339757528999289\n"
          ]
        }
      ],
      "source": [
        "def f(x):\n",
        "    return x**2\n",
        "\n",
        "N = int(1e3)\n",
        "s = 0 # s is the sum\n",
        "for i in range (N):\n",
        "    x = random() # get a random number in [0,1) ...\n",
        "    s += f(x)\n",
        "integral = s/N\n",
        "print('Approximate result for {} points: {}'.format(N,integral))"
      ]
    },
    {
      "cell_type": "markdown",
      "metadata": {
        "id": "FqFPSu7NpG26"
      },
      "source": [
        "It’s fairly clear why this works, since $s/N$ will be the average value of the function. Multiplying by the interval length, $1$ in this example, thus approximates the integral. If we want the integral between limits (a,b), we would have to multiply the average of the function over this interval by (b-a).\n",
        "$$\n",
        "\\int_a^b f(x)\\,dx\\approx(b-a)\\frac{1}{N}\\sum_{i=0}^{N-1}f(x_i)\n",
        "$$\n",
        "Note: **You need to improve the code** by avoiding the loop (i.e. using the vectorised form of\n",
        "defining random numbers).\n",
        "\n",
        "## Integration in 2-D\n",
        "\n",
        "**Simplest case**: It’s easy to extend this idea to 2-D (and higher dimensions). If we have\n",
        "a 2-D rectangular region $a \\leq x \\leq b$, $c \\leq y \\leq d$ then\n",
        "$$\n",
        "\\int_a^b\\int_c^d f(x,y)\\,dxdy\\approx\\frac{(b-a)(c-d)}{N}\\sum_{i=0}^{N-1}f(x_i,y_i)\n",
        "$$\n",
        "If the region - call it $\\Omega$ - is not rectangular, we simply find the average over the region, then multiply by the area $A_\\Omega$ of the region.\n",
        "\n",
        "**General case**: Sometimes it’s hard to know the area of the region (because it is not a\n",
        "simple shape or is defined by equations) but we can easily extend this idea as follows:\n",
        "\n",
        "Simply define a rectangular region R (of _known_ area $A_R$) which contains $\\Omega$ (This is what we did in the introduction):\n",
        "\n",
        "![regions](https://raw.githubusercontent.com/PX2134/images/master/week6/regions.png)\n",
        "\n",
        "Select $N$ points randomly in $R$. If $n$ of these points turn out to be within $\\Omega$, then the area of region $\\Omega$ is approximately $(n/N)A_R$. Our integral is thus\n",
        "$$\n",
        "\\int\\int_\\Omega f(x,y)\\,dxdy\\approx\\left(\\frac{n}{N}A_R\\right)\\frac{1}{n}\\sum_{i\\in\\Omega}f(x_i,y_i)\n",
        "$$\n",
        "where the notation $i\\in\\Omega$ means points $i$ which are within the region $\\Omega$. If we integrate the function $f(x, y) = 1$ then this would let us calculate the unknown area of the region $\\Omega$. If $f(x, y)$ were the _density_ of the region, then the integral would give us its _mass_.\n",
        "\n",
        "Another way of deriving the equation above is to cancel out the $n$ and note that $A_R/N$ is just the average area that each point occupies in the plane. The double integral is thus (approximately) the average area per point multiplied by the sum of $f$ values within $\\Omega$.\n",
        "\n",
        "## Integration in 3-D\n",
        "You can guess the rest! Again note here that if we integrate the function $f(x, y, z) = 1$ then it would give us the volume of a region. If $f(x, y, z)$ were the _density_ of the region, then the integral would give us its _mass_. Can you see how _moment of inertia_ could be calculated?"
      ]
    },
    {
      "cell_type": "markdown",
      "metadata": {
        "id": "-h4y0qOKpG26"
      },
      "source": [
        "# Exercises\n",
        "This must be marked before you leave the lab. Mark weighting is in brackets. **Save your work to GitHub after having run all cells with `Runtime` -> `Restart and run all`. And do not change the notebook's filename.** Do add comments to your code, you'll lose points if your code is hard to understand. Graphs without labels (or units when appropriate) are not worth any point.\n",
        "\n",
        "## Exercise 0\n",
        "\n",
        "See LearningCentral for a video of integrating a function using the Monte Carlo method.\n",
        "\n",
        "## Exercise 1\n",
        "\n",
        "[4] Plot histograms using the uniform and normal distribution random number generators. Investigate how the histograms depend on the number of points\n",
        "taken."
      ]
    },
    {
      "cell_type": "code",
      "execution_count": 10,
      "metadata": {
        "colab": {
          "base_uri": "https://localhost:8080/",
          "height": 887
        },
        "id": "81_EYVpqpG26",
        "outputId": "9aacb8cc-765a-4e25-bd2f-d9abe21b15b0"
      },
      "outputs": [
        {
          "output_type": "display_data",
          "data": {
            "text/plain": [
              "<Figure size 640x480 with 1 Axes>"
            ],
            "image/png": "[encoded data removed]"
          },
          "metadata": {}
        },
        {
          "output_type": "display_data",
          "data": {
            "text/plain": [
              "<Figure size 640x480 with 1 Axes>"
            ],
            "image/png": "[encoded data removed]"
          },
          "metadata": {}
        }
      ],
      "source": [
        "# make the uniform random data\n",
        "N = int(1e5)\n",
        "x = np.random.rand(N) # Use np.random.rand for uniform distribution\n",
        "plt.hist(x, bins='auto',density=True)\n",
        "plt.title('Uniform distribution')\n",
        "plt.show()\n",
        "\n",
        "# make the normal random data\n",
        "N = int(1e5)\n",
        "x = np.random.normal(loc=0.0, scale=1.0, size=N)\n",
        "plt.hist(x, bins='auto',density=True)\n",
        "plt.title('Normal distribution')\n",
        "plt.show()"
      ]
    },
    {
      "cell_type": "markdown",
      "metadata": {
        "id": "Fb3ATAUqpG26"
      },
      "source": [
        "## Exercise 2\n",
        "\n",
        "[7] Find $\\pi$ using the method described in the introduction and plot a unit square to illustrate points which lie within the unit circle. It’s much faster to use the second method of making the random numbers, `x=random(N)`. You should plot data points within the circle in blue and those outside in green. Adapt code similar to that below to do the plotting.\n",
        "```python\n",
        "inpond = np.sqrt(x**2+y**2) <= 1.0 # True if in the pond\n",
        "plt.plot(x[inpond==True], y[inpond==True],'b.')\n",
        "```\n",
        " Compare the speed between using a `for` loop and using the vectorised `x=random(N)`."
      ]
    },
    {
      "cell_type": "code",
      "execution_count": 11,
      "metadata": {
        "colab": {
          "base_uri": "https://localhost:8080/",
          "height": 525
        },
        "id": "SSoMLcbnpG26",
        "outputId": "57be8460-5aca-4185-c760-8fb92d009611"
      },
      "outputs": [
        {
          "output_type": "stream",
          "name": "stdout",
          "text": [
            "Approximate result for 100000 points: 0.6645577785861226\n",
            "pi estimate using this method: 3.147\n"
          ]
        },
        {
          "output_type": "display_data",
          "data": {
            "text/plain": [
              "<Figure size 640x480 with 1 Axes>"
            ],
            "image/png": "[encoded data removed]"
          },
          "metadata": {}
        },
        {
          "output_type": "stream",
          "name": "stdout",
          "text": [
            "CPU times: user 242 ms, sys: 7.98 ms, total: 250 ms\n",
            "Wall time: 249 ms\n"
          ]
        }
      ],
      "source": [
        "%%time\n",
        "def f(x, y) :\n",
        "  return (x**2+y**2)\n",
        "\n",
        "N = int(1e5)\n",
        "\n",
        "# Generate all random points at once\n",
        "x = np.random.rand(N)\n",
        "y = np.random.rand(N)\n",
        "\n",
        "# Apply the function to all points\n",
        "s = np.sum(f(x, y))\n",
        "integral = s / N\n",
        "\n",
        "print(f'Approximate result for {N} points: {integral}')\n",
        "\n",
        "# Points inside the unit circle\n",
        "inpond = (x**2 + y**2) <= 1.0\n",
        "\n",
        "pi_estimate = 4 * np.sum(inpond) / N\n",
        "print('pi estimate using this method:', pi_estimate)\n",
        "\n",
        "# Plot\n",
        "plt.figure()\n",
        "plt.plot(x[inpond== True], y[inpond == True], 'b.')\n",
        "plt.plot(x[inpond == False], y[inpond == False], 'g.')\n",
        "plt.title('using random')\n",
        "plt.show()\n",
        "\n"
      ]
    },
    {
      "cell_type": "code",
      "source": [
        "%%time\n",
        "\n",
        "def f(x, y):\n",
        "    return x**2 + y**2\n",
        "\n",
        "N = int(1e5)\n",
        "s = 0 # s is the sum\n",
        "for i in range (N):\n",
        "    x = random() # get a random number in [0,1) ...\n",
        "    y = random()\n",
        "    s += f(x, y)\n",
        "    inpond = (x**2 + y**2) <= 1.0\n",
        "integral = s/N\n",
        "\n",
        "pi_estimate = 4 * integral\n",
        "print('pi estimate using this method:', pi_estimate)\n",
        "\n",
        "plt.figure()\n",
        "plt.plot(x[inpond== True], y[inpond == True], 'b.')\n",
        "plt.plot(x[inpond == False], y[inpond == False], 'g.')\n",
        "plt.axis('equal')\n",
        "plt.title('using loop')\n",
        "plt.show()\n",
        "\n"
      ],
      "metadata": {
        "colab": {
          "base_uri": "https://localhost:8080/",
          "height": 165
        },
        "id": "y0J4N5WTAg4G",
        "outputId": "5f661dc8-1d24-4eba-e96e-4e87d27b8550"
      },
      "execution_count": 12,
      "outputs": [
        {
          "output_type": "stream",
          "name": "stdout",
          "text": [
            "pi estimate using this method: 2.673829534566424\n"
          ]
        },
        {
          "output_type": "error",
          "ename": "TypeError",
          "evalue": "'float' object is not subscriptable",
          "traceback": [
            "\u001b[0;31m---------------------------------------------------------------------------\u001b[0m",
            "\u001b[0;31mTypeError\u001b[0m                                 Traceback (most recent call last)",
            "\u001b[0;32m<timed exec>\u001b[0m in \u001b[0;36m<module>\u001b[0;34m\u001b[0m\n",
            "\u001b[0;31mTypeError\u001b[0m: 'float' object is not subscriptable"
          ]
        },
        {
          "output_type": "display_data",
          "data": {
            "text/plain": [
              "<Figure size 640x480 with 0 Axes>"
            ]
          },
          "metadata": {}
        }
      ]
    },
    {
      "cell_type": "markdown",
      "metadata": {
        "id": "jUyi05GzpG27"
      },
      "source": [
        "## Exercise 3\n",
        "\n",
        "[9] Integrate $f(x) = sin(x)tan(x)$ between $0$ and $\\pi/4$ using the MC method, and compare with the exact answer (obtained for instance via [WolframAlpha](https://www.wolframalpha.com/)). Investigate what happens with increasing the number of points $N$ you use by plotting the MC answer versus number of points, choosing appropriate values for $N$ and choice of axes.\n",
        "\n",
        " To get full marks you must avoid using a loop in the integration (but you can loop over different values of $N$)."
      ]
    },
    {
      "cell_type": "code",
      "execution_count": null,
      "metadata": {
        "id": "XXem41QWpG27"
      },
      "outputs": [],
      "source": [
        "# define function\n",
        "def f(x):\n",
        "  return np.sin(x) * np.tan(x)\n",
        "\n",
        "# Integration limits\n",
        "a = 0\n",
        "b = np.pi / 4\n",
        "\n",
        "# Exact answer\n",
        "exact_answer = np.log(np.sqrt(2) + 1) - 1/np.sqrt(2)\n",
        "\n",
        "# List of N values to investigate\n",
        "N_values = [int(1e3), int(1e4), int(1e5), int(1e6), int(1e7), int(1e8), int(1e9)]\n",
        "\n",
        "integral_estimates = []\n",
        "\n",
        "for N in N_values:\n",
        "    # Generate random points within the integration interval [a, b)\n",
        "    x = a + (b - a) * np.random.rand(N)\n",
        "\n",
        "    # Calculate the average value of the function over the interval\n",
        "    average_f = np.mean(f(x))\n",
        "\n",
        "    # Estimate the integral\n",
        "    integral_estimate = (b - a) * average_f\n",
        "    integral_estimates.append(integral_estimate)\n",
        "\n",
        "# Plot the results\n",
        "plt.figure()\n",
        "plt.plot(N_values, integral_estimates, marker='o', linestyle='-', label='MC Estimate')\n",
        "plt.axhline(y=exact_answer, color='r', linestyle='--', label='Exact Answer') # Add exact answer as a horizontal line\n",
        "plt.xscale('log') # Use log scale for N to better visualize the effect over orders of magnitude\n",
        "plt.title('Monte Carlo Integral Estimates vs. Number of Points')\n",
        "plt.xlabel('Number of Points (N)')\n",
        "plt.ylabel('Integral Estimate')\n",
        "plt.legend()\n",
        "plt.grid(True)\n",
        "plt.show()\n",
        "\n",
        "# Print the final estimate for the largest N\n",
        "print(f'Monte Carlo integral estimate for {N_values[-1]} points: {integral_estimates[-1]}')\n",
        "print(f'Exact answer: {exact_answer}')"
      ]
    }
  ],
  "metadata": {
    "kernelspec": {
      "display_name": "Python 3",
      "language": "python",
      "name": "python3"
    },
    "language_info": {
      "codemirror_mode": {
        "name": "ipython",
        "version": 3
      },
      "file_extension": ".py",
      "mimetype": "text/x-python",
      "name": "python",
      "nbconvert_exporter": "python",
      "pygments_lexer": "ipython3",
      "version": "3.7.10"
    },
    "colab": {
      "provenance": []
    }
  },
  "nbformat": 4,
  "nbformat_minor": 0
}